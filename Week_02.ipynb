{
 "cells": [
  {
   "cell_type": "markdown",
   "metadata": {},
   "source": [
    "# Comment & Basic Data Types"
   ]
  },
  {
   "cell_type": "code",
   "execution_count": 7,
   "metadata": {},
   "outputs": [
    {
     "name": "stdout",
     "output_type": "stream",
     "text": [
      "Hello\n"
     ]
    }
   ],
   "source": [
    "# this is a comment\n",
    "\"\"\"\n",
    "        This is multi-line comment\n",
    "\"\"\"\n",
    "print(\"Hello\")      # this is also a comment"
   ]
  },
  {
   "cell_type": "code",
   "execution_count": 8,
   "metadata": {},
   "outputs": [
    {
     "name": "stdout",
     "output_type": "stream",
     "text": [
      "2\n",
      "10\n"
     ]
    }
   ],
   "source": [
    "#  the following are all integers\n",
    "print(2)\n",
    "print(10)"
   ]
  },
  {
   "cell_type": "code",
   "execution_count": 9,
   "metadata": {},
   "outputs": [
    {
     "name": "stdout",
     "output_type": "stream",
     "text": [
      "10.953\n",
      "8.0\n"
     ]
    }
   ],
   "source": [
    "# the follwoing are all floats\n",
    "print(10.953)\n",
    "print(8.0)        # even this number is a float"
   ]
  },
  {
   "cell_type": "code",
   "execution_count": 10,
   "metadata": {},
   "outputs": [
    {
     "name": "stdout",
     "output_type": "stream",
     "text": [
      "True\n",
      "False\n"
     ]
    }
   ],
   "source": [
    "# the following are all booleans\n",
    "print(True)\n",
    "print(False)"
   ]
  },
  {
   "cell_type": "code",
   "execution_count": 11,
   "metadata": {
    "scrolled": true
   },
   "outputs": [
    {
     "name": "stdout",
     "output_type": "stream",
     "text": [
      " \n",
      "Theres a snake in my boot!\n",
      "There's a snake in my boot!\n",
      "True\n",
      "True\n"
     ]
    }
   ],
   "source": [
    "# the following are strings\n",
    "print(\" \")\n",
    "print('There''s a snake in my boot!')\n",
    "print(\"There's a snake in my boot!\")\n",
    "print('True')\n",
    "print(True)"
   ]
  },
  {
   "cell_type": "markdown",
   "metadata": {},
   "source": [
    "### Monday Challanges"
   ]
  },
  {
   "cell_type": "code",
   "execution_count": 4,
   "metadata": {},
   "outputs": [
    {
     "name": "stdout",
     "output_type": "stream",
     "text": [
      "Bartek\n"
     ]
    },
    {
     "data": {
      "text/plain": [
       "type"
      ]
     },
     "execution_count": 4,
     "metadata": {},
     "output_type": "execute_result"
    }
   ],
   "source": [
    "# print out your name\n",
    "print(\"Bartek\")\n",
    "\n",
    "# type-checking\n",
    "type(int)\n",
    "#type(5)\n",
    "#type(\"string\")\n",
    "#type(5.89)"
   ]
  },
  {
   "cell_type": "markdown",
   "metadata": {},
   "source": [
    "## Variables"
   ]
  },
  {
   "cell_type": "code",
   "execution_count": 13,
   "metadata": {
    "scrolled": true
   },
   "outputs": [
    {
     "name": "stdout",
     "output_type": "stream",
     "text": [
      "5 8.4\n"
     ]
    }
   ],
   "source": [
    "num1 = 5           # storing an integer into variable\n",
    "num2 = 8.4         # storing a float into variable\n",
    "print(num1, num2)  # you can print multiple items using comma"
   ]
  },
  {
   "cell_type": "code",
   "execution_count": 14,
   "metadata": {},
   "outputs": [
    {
     "name": "stdout",
     "output_type": "stream",
     "text": [
      "True\n"
     ]
    }
   ],
   "source": [
    "# storing a boolean into a variable\n",
    "switch = True\n",
    "print(switch)"
   ]
  },
  {
   "cell_type": "code",
   "execution_count": 15,
   "metadata": {},
   "outputs": [
    {
     "name": "stdout",
     "output_type": "stream",
     "text": [
      "John Smith 9\n"
     ]
    }
   ],
   "source": [
    "# storing strings into a variable\n",
    "name  = 'John Smith'\n",
    "fav_number = '9'\n",
    "print(name, fav_number)  # will print 9 next to the name"
   ]
  },
  {
   "cell_type": "code",
   "execution_count": 16,
   "metadata": {},
   "outputs": [
    {
     "name": "stdout",
     "output_type": "stream",
     "text": [
      "13.4\n"
     ]
    }
   ],
   "source": [
    "# using two variables to create another variable\n",
    "result = num1 + num2\n",
    "print(result)"
   ]
  },
  {
   "cell_type": "code",
   "execution_count": 17,
   "metadata": {},
   "outputs": [
    {
     "name": "stdout",
     "output_type": "stream",
     "text": [
      "14.4\n",
      "72.0\n"
     ]
    }
   ],
   "source": [
    "# adding, deleting, multiplying, dividing from a variable\n",
    "result += 1      # same as saying result = result + 1\n",
    "print(result)\n",
    "result *= num1   # same as saying result = result * num1\n",
    "print(result)"
   ]
  },
  {
   "cell_type": "code",
   "execution_count": 18,
   "metadata": {},
   "outputs": [
    {
     "name": "stdout",
     "output_type": "stream",
     "text": [
      "John\n",
      "Sam\n"
     ]
    }
   ],
   "source": [
    "# defining a variable and overwriting it's value\n",
    "name = 'John'\n",
    "print(name)\n",
    "name = 'Sam'\n",
    "print(name)"
   ]
  },
  {
   "cell_type": "code",
   "execution_count": 19,
   "metadata": {},
   "outputs": [
    {
     "name": "stdout",
     "output_type": "stream",
     "text": [
      "John Smith\n"
     ]
    }
   ],
   "source": [
    "# whitespace\n",
    "name = 'John Smith'\n",
    "print(name)"
   ]
  },
  {
   "cell_type": "markdown",
   "metadata": {},
   "source": [
    "### Tuesday Exercises"
   ]
  },
  {
   "cell_type": "code",
   "execution_count": 20,
   "metadata": {},
   "outputs": [
    {
     "name": "stdout",
     "output_type": "stream",
     "text": [
      "3 + 10 = 13\n"
     ]
    }
   ],
   "source": [
    "# variable output\n",
    "x = 3\n",
    "y = 10\n",
    "adding_result = x + y\n",
    "print(\"{} + {} = {}\".format(x, y, adding_result))"
   ]
  },
  {
   "cell_type": "code",
   "execution_count": 21,
   "metadata": {
    "scrolled": true
   },
   "outputs": [
    {
     "name": "stdout",
     "output_type": "stream",
     "text": [
      "3354.0764\n"
     ]
    }
   ],
   "source": [
    "# area calculation\n",
    "width = 245.54\n",
    "heigth = 13.66\n",
    "rectangle_area = width * heigth\n",
    "print(rectangle_area)"
   ]
  },
  {
   "cell_type": "markdown",
   "metadata": {},
   "source": [
    "## Working with Strings"
   ]
  },
  {
   "cell_type": "code",
   "execution_count": 22,
   "metadata": {},
   "outputs": [
    {
     "name": "stdout",
     "output_type": "stream",
     "text": [
      "John Smith\n"
     ]
    }
   ],
   "source": [
    "# using addition operator without variables\n",
    "name  = \"John\" + \" \" + \"Smith\"\n",
    "print(name)"
   ]
  },
  {
   "cell_type": "code",
   "execution_count": 24,
   "metadata": {},
   "outputs": [
    {
     "name": "stdout",
     "output_type": "stream",
     "text": [
      "John Smith\n"
     ]
    }
   ],
   "source": [
    "# using th addition operator with variables\n",
    "first_name = \"John\"\n",
    "last_name = \"Smith\"\n",
    "full_name = first_name + \" \" + last_name\n",
    "print(full_name)"
   ]
  },
  {
   "cell_type": "code",
   "execution_count": 25,
   "metadata": {},
   "outputs": [
    {
     "name": "stdout",
     "output_type": "stream",
     "text": [
      "Hello John\n",
      "Hello John, you are 28 years old!\n"
     ]
    }
   ],
   "source": [
    "# injecting variables using the format method\n",
    "name = \"John\"\n",
    "print(\"Hello {}\".format(name))\n",
    "print(\"Hello {}, you are {} years old!\".format(name, 28))"
   ]
  },
  {
   "cell_type": "code",
   "execution_count": 26,
   "metadata": {},
   "outputs": [
    {
     "name": "stdout",
     "output_type": "stream",
     "text": [
      "Hello John\n"
     ]
    }
   ],
   "source": [
    "# using the new f string\n",
    "name = \"John\"\n",
    "print(f\"Hello {name}\")"
   ]
  },
  {
   "cell_type": "code",
   "execution_count": 28,
   "metadata": {},
   "outputs": [
    {
     "name": "stdout",
     "output_type": "stream",
     "text": [
      "Hello John\n"
     ]
    }
   ],
   "source": [
    "# one major difference between Python versions 2 & 3\n",
    "name = 'John'\n",
    "print('Hello %s' % name)"
   ]
  },
  {
   "cell_type": "code",
   "execution_count": 29,
   "metadata": {},
   "outputs": [
    {
     "name": "stdout",
     "output_type": "stream",
     "text": [
      "Hello, John Smith\n"
     ]
    }
   ],
   "source": [
    "# python 2 multiple variable formatting\n",
    "first_name = \"John\"\n",
    "last_name = \"Smith\"\n",
    "print(\"Hello, %s %s\" % (first_name, last_name))  # surround the variables in parenthesis"
   ]
  },
  {
   "cell_type": "code",
   "execution_count": 33,
   "metadata": {},
   "outputs": [
    {
     "name": "stdout",
     "output_type": "stream",
     "text": [
      "H\n",
      "e\n",
      "o\n",
      "e\n"
     ]
    }
   ],
   "source": [
    "# using indexes to print each element\n",
    "word = \"Hello\"\n",
    "print(word[0])    # will output 'H'\n",
    "print(word[1])    # will output 'e'\n",
    "print(word[-1])   # will output 'o'\n",
    "print(word[-4])   # will output 'e'\n",
    "#print(word[5])    # IndexError: string index out of range"
   ]
  },
  {
   "cell_type": "code",
   "execution_count": 38,
   "metadata": {},
   "outputs": [
    {
     "name": "stdout",
     "output_type": "stream",
     "text": [
      "He\n",
      "Hl\n",
      "Hlo\n"
     ]
    }
   ],
   "source": [
    "# string slicing\n",
    "# syntax for slicing\n",
    "# >>> variable_name[ start : stop : step ]\n",
    "print(word[0:2])    # will output 'He'\n",
    "print(word[0:4:2])  # will output 'Hl'\n",
    "print(word[0:5:2])  # will output 'Hlo'"
   ]
  },
  {
   "cell_type": "markdown",
   "metadata": {},
   "source": [
    "### Wednesday exercises"
   ]
  },
  {
   "cell_type": "code",
   "execution_count": 40,
   "metadata": {},
   "outputs": [
    {
     "name": "stdout",
     "output_type": "stream",
     "text": [
      "integer 23 float 4.5 boolean False string John\n"
     ]
    }
   ],
   "source": [
    "# variable injection\n",
    "number = 23\n",
    "float_number = 4.5\n",
    "boolean_flag = False\n",
    "string_example = \"John\"\n",
    "print(\"integer {} float {} boolean {} string {}\".format(number, float_number, boolean_flag, string_example))"
   ]
  },
  {
   "cell_type": "code",
   "execution_count": 44,
   "metadata": {
    "scrolled": true
   },
   "outputs": [
    {
     "name": "stdout",
     "output_type": "stream",
     "text": [
      "Bartek's favourite sports is football.\n",
      "Bartek is working on Python programming!\n"
     ]
    }
   ],
   "source": [
    "# Fill in blanks\n",
    "name = \"Bartek\"\n",
    "sport = \"football\"\n",
    "language = \"Python\"\n",
    "print(\"{}'s favourite sports is {}.\".format(name, sport))\n",
    "print(\"{} is working on {} programming!\".format(name, language))"
   ]
  },
  {
   "cell_type": "markdown",
   "metadata": {},
   "source": [
    "### String manipulation"
   ]
  },
  {
   "cell_type": "code",
   "execution_count": 5,
   "metadata": {},
   "outputs": [
    {
     "name": "stdout",
     "output_type": "stream",
     "text": [
      "John Smith\n",
      "john smith\n",
      "john smith\n",
      "JOHN SMITH\n",
      "john smith\n",
      "JOHN SMITH\n"
     ]
    }
   ],
   "source": [
    "# using title method to capitalize a string\n",
    "name = \"john smith\"\n",
    "print(name.title())\n",
    "print(name)\n",
    "print(name.lower())\n",
    "name = name.upper()\n",
    "print(name)\n",
    "name = name.lower()\n",
    "print(name)\n",
    "print(name.upper())"
   ]
  },
  {
   "cell_type": "code",
   "execution_count": 7,
   "metadata": {},
   "outputs": [
    {
     "name": "stdout",
     "output_type": "stream",
     "text": [
      "Hello there.\n"
     ]
    }
   ],
   "source": [
    "# replacing exclamation point with a period\n",
    "words = \"Hello there!\"\n",
    "words = words.replace(\"!\", \".\")\n",
    "print(words)"
   ]
  },
  {
   "cell_type": "code",
   "execution_count": 8,
   "metadata": {},
   "outputs": [
    {
     "name": "stdout",
     "output_type": "stream",
     "text": [
      "5\n"
     ]
    }
   ],
   "source": [
    "# finding the starting index of our searched term\n",
    "s = \"Look over that way\"\n",
    "print(s.find(\"over\"))"
   ]
  },
  {
   "cell_type": "code",
   "execution_count": 11,
   "metadata": {},
   "outputs": [
    {
     "name": "stdout",
     "output_type": "stream",
     "text": [
      "   john   \n",
      "john\n",
      "john   \n",
      "   john\n"
     ]
    }
   ],
   "source": [
    "# removing white space with strip\n",
    "name = \"   john   \"\n",
    "print(name)\n",
    "print(name.strip())\n",
    "print(name.lstrip())\n",
    "print(name.rstrip())"
   ]
  },
  {
   "cell_type": "code",
   "execution_count": 12,
   "metadata": {},
   "outputs": [
    {
     "name": "stdout",
     "output_type": "stream",
     "text": [
      "['These', 'words', 'are', 'separated', 'by', 'spaces']\n"
     ]
    }
   ],
   "source": [
    "# converting a string into a list of words\n",
    "s = \"These words are separated by spaces\"\n",
    "print(s.split(\" \"))"
   ]
  },
  {
   "cell_type": "markdown",
   "metadata": {},
   "source": [
    "### Thursday exercises"
   ]
  },
  {
   "cell_type": "code",
   "execution_count": 13,
   "metadata": {},
   "outputs": [
    {
     "name": "stdout",
     "output_type": "stream",
     "text": [
      "UPPERCASE\n"
     ]
    }
   ],
   "source": [
    "# Uppercasing\n",
    "string_to_uppercase = \"uppercase\"\n",
    "print(string_to_uppercase.upper())"
   ]
  },
  {
   "cell_type": "code",
   "execution_count": 15,
   "metadata": {},
   "outputs": [
    {
     "name": "stdout",
     "output_type": "stream",
     "text": [
      "$$John Smith\n",
      "John Smith\n"
     ]
    }
   ],
   "source": [
    "# Strip symbols\n",
    "string_to_strip = \"$$John Smith\"\n",
    "print(string_to_strip)\n",
    "print(string_to_strip.strip(\"$\"))"
   ]
  },
  {
   "cell_type": "markdown",
   "metadata": {},
   "source": [
    "# Friday Project: Printing Receipts."
   ]
  },
  {
   "cell_type": "code",
   "execution_count": 72,
   "metadata": {},
   "outputs": [
    {
     "name": "stdout",
     "output_type": "stream",
     "text": [
      "****************************************************\n",
      "*\t\tCoding Temple, Inc.\t\t   *\n",
      "*\t\t283 Franklin St.\t\t   *\n",
      "*\t\tBoston, MA\t\t\t   *\n",
      "*==================================================*\n",
      "*\tProduct Name\tProduct Price\t\t   *\n",
      "*\tBooks\t\t$49.95\t\t\t   *\n",
      "*\tComputer\t$579.99\t\t\t   *\n",
      "*\tMonitor\t\t$124.89\t\t\t   *\n",
      "*==================================================*\n",
      "*\t\t\tTotal\t\t\t   *\n",
      "*\t\t\t$754.83\t\t\t   *\n",
      "*==================================================*\n",
      "*\t\t\t\t\t\t   *\n",
      "*\tThanks for shopping with us today!\t   *\n",
      "*\t\t\t\t\t\t   *\n",
      "****************************************************\n"
     ]
    }
   ],
   "source": [
    "#create product and price for each item\n",
    "p1_name, p1_price = \"Books\", 49.95\n",
    "p2_name, p2_price = \"Computer\", 579.99\n",
    "p3_name, p3_price = \"Monitor\", 124.89\n",
    "\n",
    "#create company name and information\n",
    "company_name = \"coding temple, inc.\"\n",
    "company_address = \"283 Franklin St.\"\n",
    "company_city = \"Boston, MA\"\n",
    "\n",
    "# declare ending message\n",
    "message = \"Thanks for shopping with us today!\"\n",
    "\n",
    "# create top border\n",
    "print(\"*\" * 52)\n",
    "\n",
    "# print company information first, using format\n",
    "print(\"*\\t\\t{}\\t\\t   *\".format(company_name.title()))\n",
    "print(\"*\\t\\t{}\\t\\t   *\".format(company_address))\n",
    "print(\"*\\t\\t{}\\t\\t\\t   *\".format(company_city))\n",
    "\n",
    "# print a line between sections\n",
    "print(\"*{}*\".format(\"=\" * 50))\n",
    "\n",
    "# print out header for section of items\n",
    "print(\"*\\tProduct Name\\tProduct Price\\t\\t   *\")\n",
    "\n",
    "# create print statement for each product\n",
    "print(\"*\\t{}\\t\\t${}\\t\\t\\t   *\".format(p1_name.title(), p1_price))\n",
    "print(\"*\\t{}\\t${}\\t\\t\\t   *\".format(p2_name.title(), p2_price))\n",
    "print(\"*\\t{}\\t\\t${}\\t\\t\\t   *\".format(p3_name.title(), p3_price))\n",
    "\n",
    "# print a line between sections\n",
    "print(\"*{}*\".format(\"=\" * 50))\n",
    "\n",
    "# print out header for section of total\n",
    "print(\"*\\t\\t\\tTotal\\t\\t\\t   *\")\n",
    "\n",
    "# calculate total price and print out\n",
    "total = p1_price + p2_price + p3_price\n",
    "print(\"*\\t\\t\\t${}\\t\\t\\t   *\".format(total))\n",
    "\n",
    "# print a line between sections\n",
    "print(\"*{}*\".format(\"=\" * 50))\n",
    "\n",
    "# output thank you message\n",
    "print(\"*\\t\\t\\t\\t\\t\\t   *\\n*\\t{}\\t   *\\n*\\t\\t\\t\\t\\t\\t   *\".format(message))\n",
    "\n",
    "# create bottom border\n",
    "print(\"*\" * 52)"
   ]
  },
  {
   "cell_type": "markdown",
   "metadata": {},
   "source": [
    "### Weekly challanges"
   ]
  },
  {
   "cell_type": "code",
   "execution_count": 6,
   "metadata": {},
   "outputs": [
    {
     "name": "stdout",
     "output_type": "stream",
     "text": [
      "hELLO WORLD\n",
      "dlrow olleH\n"
     ]
    }
   ],
   "source": [
    "# Challange 1 - done above\n",
    "# Challange 2 - other methods of strings manipulation\n",
    "stringToManipulate = \"Hello world\"\n",
    "print(stringToManipulate.swapcase())\n",
    "print(\"\".join(reversed(stringToManipulate)))"
   ]
  },
  {
   "cell_type": "code",
   "execution_count": 24,
   "metadata": {},
   "outputs": [
    {
     "name": "stdout",
     "output_type": "stream",
     "text": [
      "olleH\n"
     ]
    }
   ],
   "source": [
    "# Reverse using slicing\n",
    "text = \"Hello\"\n",
    "print(text[::-1])"
   ]
  }
 ],
 "metadata": {
  "kernelspec": {
   "display_name": "Python 3",
   "language": "python",
   "name": "python3"
  },
  "language_info": {
   "codemirror_mode": {
    "name": "ipython",
    "version": 3
   },
   "file_extension": ".py",
   "mimetype": "text/x-python",
   "name": "python",
   "nbconvert_exporter": "python",
   "pygments_lexer": "ipython3",
   "version": "3.8.5"
  }
 },
 "nbformat": 4,
 "nbformat_minor": 4
}
